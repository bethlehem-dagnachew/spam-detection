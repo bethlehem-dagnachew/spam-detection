{
 "cells": [
  {
   "cell_type": "markdown",
   "metadata": {},
   "source": [
    "# Spam Email Classifiaction Using Machine Learning Techniques"
   ]
  },
  {
   "cell_type": "markdown",
   "metadata": {},
   "source": [
    "### 1. Importing Libraries"
   ]
  },
  {
   "cell_type": "code",
   "execution_count": 1,
   "metadata": {},
   "outputs": [],
   "source": [
    "import numpy as np\n",
    "import pandas as pd\n",
    "import matplotlib.pyplot as plt\n",
    "from sklearn.model_selection import train_test_split\n",
    "from imblearn import under_sampling, over_sampling\n",
    "from imblearn.over_sampling import SMOTE"
   ]
  },
  {
   "cell_type": "markdown",
   "metadata": {},
   "source": [
    "### 2. Load Dataset "
   ]
  },
  {
   "cell_type": "markdown",
   "metadata": {},
   "source": [
    "We first load the dataset which is from Kaggle."
   ]
  },
  {
   "cell_type": "code",
   "execution_count": 2,
   "metadata": {},
   "outputs": [
    {
     "data": {
      "text/html": [
       "<div>\n",
       "<style scoped>\n",
       "    .dataframe tbody tr th:only-of-type {\n",
       "        vertical-align: middle;\n",
       "    }\n",
       "\n",
       "    .dataframe tbody tr th {\n",
       "        vertical-align: top;\n",
       "    }\n",
       "\n",
       "    .dataframe thead th {\n",
       "        text-align: right;\n",
       "    }\n",
       "</style>\n",
       "<table border=\"1\" class=\"dataframe\">\n",
       "  <thead>\n",
       "    <tr style=\"text-align: right;\">\n",
       "      <th></th>\n",
       "      <th>Unnamed: 0</th>\n",
       "      <th>label</th>\n",
       "      <th>text</th>\n",
       "      <th>label_num</th>\n",
       "    </tr>\n",
       "  </thead>\n",
       "  <tbody>\n",
       "    <tr>\n",
       "      <th>0</th>\n",
       "      <td>605</td>\n",
       "      <td>ham</td>\n",
       "      <td>Subject: enron methanol ; meter # : 988291\\r\\n...</td>\n",
       "      <td>0</td>\n",
       "    </tr>\n",
       "    <tr>\n",
       "      <th>1</th>\n",
       "      <td>2349</td>\n",
       "      <td>ham</td>\n",
       "      <td>Subject: hpl nom for january 9 , 2001\\r\\n( see...</td>\n",
       "      <td>0</td>\n",
       "    </tr>\n",
       "    <tr>\n",
       "      <th>2</th>\n",
       "      <td>3624</td>\n",
       "      <td>ham</td>\n",
       "      <td>Subject: neon retreat\\r\\nho ho ho , we ' re ar...</td>\n",
       "      <td>0</td>\n",
       "    </tr>\n",
       "    <tr>\n",
       "      <th>3</th>\n",
       "      <td>4685</td>\n",
       "      <td>spam</td>\n",
       "      <td>Subject: photoshop , windows , office . cheap ...</td>\n",
       "      <td>1</td>\n",
       "    </tr>\n",
       "    <tr>\n",
       "      <th>4</th>\n",
       "      <td>2030</td>\n",
       "      <td>ham</td>\n",
       "      <td>Subject: re : indian springs\\r\\nthis deal is t...</td>\n",
       "      <td>0</td>\n",
       "    </tr>\n",
       "  </tbody>\n",
       "</table>\n",
       "</div>"
      ],
      "text/plain": [
       "   Unnamed: 0 label                                               text  \\\n",
       "0         605   ham  Subject: enron methanol ; meter # : 988291\\r\\n...   \n",
       "1        2349   ham  Subject: hpl nom for january 9 , 2001\\r\\n( see...   \n",
       "2        3624   ham  Subject: neon retreat\\r\\nho ho ho , we ' re ar...   \n",
       "3        4685  spam  Subject: photoshop , windows , office . cheap ...   \n",
       "4        2030   ham  Subject: re : indian springs\\r\\nthis deal is t...   \n",
       "\n",
       "   label_num  \n",
       "0          0  \n",
       "1          0  \n",
       "2          0  \n",
       "3          1  \n",
       "4          0  "
      ]
     },
     "execution_count": 2,
     "metadata": {},
     "output_type": "execute_result"
    }
   ],
   "source": [
    "data = pd.read_csv(r\"spam_ham_dataset.csv\")\n",
    "# data = pd.read_csv('spam_ham_dataset.csv')\n",
    "data.head()"
   ]
  },
  {
   "cell_type": "markdown",
   "metadata": {},
   "source": [
    "#### About the Dataset\n",
    "The csv file contains 5172 rows, each row for each email. There are 4 columns. The second column indicates the label. It indicate whether the Email is spam or not. The spam message is indicated using “spam” and the  message which is not spam is indicated by “ham”.  The third column indicate the body of the Email. It contain the text of the Message. The fourth column indicate the spam m and the ham message using 0 and 1. The spam message indicate using 1 and the ham message indicted using 0.  "
   ]
  },
  {
   "cell_type": "code",
   "execution_count": 3,
   "metadata": {},
   "outputs": [],
   "source": [
    "data['text'] = data['text'].str.replace('\\d+', '')"
   ]
  },
  {
   "cell_type": "code",
   "execution_count": 4,
   "metadata": {},
   "outputs": [
    {
     "name": "stdout",
     "output_type": "stream",
     "text": [
      "[[0 0 0 ... 0 0 0]\n",
      " [0 0 0 ... 0 0 0]\n",
      " [0 0 4 ... 0 0 0]\n",
      " ...\n",
      " [0 0 0 ... 0 0 0]\n",
      " [0 0 0 ... 0 0 0]\n",
      " [0 0 0 ... 0 0 0]]\n"
     ]
    }
   ],
   "source": [
    "from sklearn.feature_extraction.text import CountVectorizer\n",
    "\n",
    "vectorizer = CountVectorizer(min_df=20)\n",
    "X = vectorizer.fit_transform(data['text'])\n",
    "print(X.toarray())"
   ]
  },
  {
   "cell_type": "code",
   "execution_count": 5,
   "metadata": {},
   "outputs": [
    {
     "name": "stderr",
     "output_type": "stream",
     "text": [
      "/home/betty/anaconda3/lib/python3.7/site-packages/sklearn/utils/deprecation.py:87: FutureWarning: Function get_feature_names is deprecated; get_feature_names is deprecated in 1.0 and will be removed in 1.2. Please use get_feature_names_out instead.\n",
      "  warnings.warn(msg, category=FutureWarning)\n"
     ]
    },
    {
     "data": {
      "text/plain": [
       "['ability',\n",
       " 'able',\n",
       " 'about',\n",
       " 'above',\n",
       " 'absence',\n",
       " 'absolutely',\n",
       " 'ac',\n",
       " 'accept',\n",
       " 'acceptance',\n",
       " 'accepted',\n",
       " 'access',\n",
       " 'accomplish',\n",
       " 'according',\n",
       " 'accordingly',\n",
       " 'account',\n",
       " 'accountant',\n",
       " 'accounting',\n",
       " 'accounts',\n",
       " 'accuracy',\n",
       " 'accurate',\n",
       " 'achieve',\n",
       " 'acquire',\n",
       " 'acquisition',\n",
       " 'across',\n",
       " 'act',\n",
       " 'action',\n",
       " 'actions',\n",
       " 'active',\n",
       " 'activities',\n",
       " 'activity',\n",
       " 'acton',\n",
       " 'acts',\n",
       " 'actual',\n",
       " 'actually',\n",
       " 'actuals',\n",
       " 'ad',\n",
       " 'add',\n",
       " 'added',\n",
       " 'adding',\n",
       " 'addition',\n",
       " 'additional',\n",
       " 'additionally',\n",
       " 'address',\n",
       " 'addressed',\n",
       " 'addresses',\n",
       " 'adjust',\n",
       " 'adjusted',\n",
       " 'adjustment',\n",
       " 'adjustments',\n",
       " 'administration',\n",
       " 'adobe',\n",
       " 'adult',\n",
       " 'advance',\n",
       " 'advanced',\n",
       " 'advantage',\n",
       " 'advertisement',\n",
       " 'advice',\n",
       " 'advise',\n",
       " 'advised',\n",
       " 'advises',\n",
       " 'advisor',\n",
       " 'aeor',\n",
       " 'aep',\n",
       " 'affect',\n",
       " 'affected',\n",
       " 'affiliate',\n",
       " 'affiliated',\n",
       " 'affordable',\n",
       " 'africa',\n",
       " 'after',\n",
       " 'afternoon',\n",
       " 'again',\n",
       " 'against',\n",
       " 'age',\n",
       " 'agency',\n",
       " 'agent',\n",
       " 'aggressive',\n",
       " 'ago',\n",
       " 'agree',\n",
       " 'agreed',\n",
       " 'agreement',\n",
       " 'agreements',\n",
       " 'ahead',\n",
       " 'aimee',\n",
       " 'air',\n",
       " 'al',\n",
       " 'albrecht',\n",
       " 'alcohol',\n",
       " 'alert',\n",
       " 'ali',\n",
       " 'align',\n",
       " 'all',\n",
       " 'allen',\n",
       " 'allocate',\n",
       " 'allocated',\n",
       " 'allocating',\n",
       " 'allocation',\n",
       " 'allocations',\n",
       " 'allow',\n",
       " 'allowed',\n",
       " 'allows',\n",
       " 'almost',\n",
       " 'along',\n",
       " 'already',\n",
       " 'also',\n",
       " 'alternative',\n",
       " 'although',\n",
       " 'always',\n",
       " 'am',\n",
       " 'amazing',\n",
       " 'ambien',\n",
       " 'america',\n",
       " 'american',\n",
       " 'ami',\n",
       " 'among',\n",
       " 'amount',\n",
       " 'amy',\n",
       " 'an',\n",
       " 'analysis',\n",
       " 'analyst',\n",
       " 'and',\n",
       " 'anderson',\n",
       " 'anita',\n",
       " 'announce',\n",
       " 'announced',\n",
       " 'announcement',\n",
       " 'announces',\n",
       " 'annual',\n",
       " 'another',\n",
       " 'answer',\n",
       " 'anti',\n",
       " 'anticipated',\n",
       " 'anticipates',\n",
       " 'anxiety',\n",
       " 'any',\n",
       " 'anyone',\n",
       " 'anything',\n",
       " 'anytime',\n",
       " 'anyway',\n",
       " 'anywhere',\n",
       " 'aol',\n",
       " 'aopen',\n",
       " 'apache',\n",
       " 'apc',\n",
       " 'apparently',\n",
       " 'appear',\n",
       " 'appears',\n",
       " 'applicable',\n",
       " 'application',\n",
       " 'applications',\n",
       " 'apply',\n",
       " 'appreciate',\n",
       " 'appreciated',\n",
       " 'approach',\n",
       " 'appropriate',\n",
       " 'approval',\n",
       " 'approve',\n",
       " 'approved',\n",
       " 'approx',\n",
       " 'approximately',\n",
       " 'apr',\n",
       " 'april',\n",
       " 'archer',\n",
       " 'are',\n",
       " 'area',\n",
       " 'areas',\n",
       " 'aren',\n",
       " 'around',\n",
       " 'arrangement',\n",
       " 'arrangements',\n",
       " 'art',\n",
       " 'as',\n",
       " 'asap',\n",
       " 'ascii',\n",
       " 'ask',\n",
       " 'asked',\n",
       " 'asking',\n",
       " 'asset',\n",
       " 'assets',\n",
       " 'assigned',\n",
       " 'assignment',\n",
       " 'assist',\n",
       " 'assistance',\n",
       " 'assistant',\n",
       " 'associated',\n",
       " 'assume',\n",
       " 'assuming',\n",
       " 'assumptions',\n",
       " 'assurance',\n",
       " 'assured',\n",
       " 'at',\n",
       " 'atleast',\n",
       " 'attached',\n",
       " 'attachment',\n",
       " 'attempt',\n",
       " 'attend',\n",
       " 'attention',\n",
       " 'aug',\n",
       " 'august',\n",
       " 'austin',\n",
       " 'authority',\n",
       " 'auto',\n",
       " 'automatically',\n",
       " 'availabilities',\n",
       " 'availability',\n",
       " 'available',\n",
       " 'average',\n",
       " 'avila',\n",
       " 'avoid',\n",
       " 'award',\n",
       " 'aware',\n",
       " 'away',\n",
       " 'awesome',\n",
       " 'baby',\n",
       " 'back',\n",
       " 'bad',\n",
       " 'balance',\n",
       " 'bammel',\n",
       " 'bane',\n",
       " 'bank',\n",
       " 'banking',\n",
       " 'bankruptcy',\n",
       " 'base',\n",
       " 'based',\n",
       " 'baseload',\n",
       " 'basis',\n",
       " 'baumbach',\n",
       " 'baxter',\n",
       " 'be',\n",
       " 'beach',\n",
       " 'beaty',\n",
       " 'beaumont',\n",
       " 'because',\n",
       " 'beck',\n",
       " 'become',\n",
       " 'bed',\n",
       " 'beemer',\n",
       " 'been',\n",
       " 'before',\n",
       " 'began',\n",
       " 'begin',\n",
       " 'beginning',\n",
       " 'begins',\n",
       " 'behalf',\n",
       " 'behind',\n",
       " 'being',\n",
       " 'beliefs',\n",
       " 'believe',\n",
       " 'believes',\n",
       " 'bellamy',\n",
       " 'below',\n",
       " 'benefit',\n",
       " 'benefits',\n",
       " 'benoit',\n",
       " 'best',\n",
       " 'better',\n",
       " 'between',\n",
       " 'beverly',\n",
       " 'beyond',\n",
       " 'bias',\n",
       " 'bid',\n",
       " 'big',\n",
       " 'biggest',\n",
       " 'bill',\n",
       " 'billed',\n",
       " 'billing',\n",
       " 'billion',\n",
       " 'bit',\n",
       " 'biz',\n",
       " 'black',\n",
       " 'blank',\n",
       " 'blood',\n",
       " 'blue',\n",
       " 'blvd',\n",
       " 'board',\n",
       " 'boas',\n",
       " 'bob',\n",
       " 'bobby',\n",
       " 'body',\n",
       " 'book',\n",
       " 'booked',\n",
       " 'books',\n",
       " 'boost',\n",
       " 'border',\n",
       " 'both',\n",
       " 'bottom',\n",
       " 'bought',\n",
       " 'bowen',\n",
       " 'box',\n",
       " 'br',\n",
       " 'braband',\n",
       " 'brad',\n",
       " 'brand',\n",
       " 'brandywine',\n",
       " 'brazos',\n",
       " 'break',\n",
       " 'breaking',\n",
       " 'brenda',\n",
       " 'brennan',\n",
       " 'brent',\n",
       " 'bretz',\n",
       " 'brian',\n",
       " 'bridge',\n",
       " 'brief',\n",
       " 'briley',\n",
       " 'bring',\n",
       " 'bringing',\n",
       " 'broadband',\n",
       " 'broker',\n",
       " 'brought',\n",
       " 'brown',\n",
       " 'browser',\n",
       " 'bruce',\n",
       " 'bryan',\n",
       " 'bryce',\n",
       " 'btu',\n",
       " 'buckley',\n",
       " 'buddy',\n",
       " 'budget',\n",
       " 'build',\n",
       " 'building',\n",
       " 'built',\n",
       " 'business',\n",
       " 'businesses',\n",
       " 'busy',\n",
       " 'but',\n",
       " 'button',\n",
       " 'buy',\n",
       " 'buyback',\n",
       " 'buyer',\n",
       " 'buying',\n",
       " 'by',\n",
       " 'ca',\n",
       " 'cable',\n",
       " 'cal',\n",
       " 'calendar',\n",
       " 'call',\n",
       " 'called',\n",
       " 'calling',\n",
       " 'calls',\n",
       " 'calpine',\n",
       " 'came',\n",
       " 'camera',\n",
       " 'camp',\n",
       " 'campaign',\n",
       " 'can',\n",
       " 'canada',\n",
       " 'cancel',\n",
       " 'cannot',\n",
       " 'canon',\n",
       " 'cap',\n",
       " 'capabilities',\n",
       " 'capacity',\n",
       " 'capital',\n",
       " 'capture',\n",
       " 'car',\n",
       " 'card',\n",
       " 'care',\n",
       " 'carefully',\n",
       " 'carlos',\n",
       " 'carriere',\n",
       " 'carry',\n",
       " 'carter',\n",
       " 'carthage',\n",
       " 'cartwheel',\n",
       " 'case',\n",
       " 'cash',\n",
       " 'cass',\n",
       " 'catch',\n",
       " 'category',\n",
       " 'cause',\n",
       " 'caused',\n",
       " 'causing',\n",
       " 'cc',\n",
       " 'ccs',\n",
       " 'cd',\n",
       " 'ce',\n",
       " 'cec',\n",
       " 'cell',\n",
       " 'centana',\n",
       " 'center',\n",
       " 'central',\n",
       " 'ceo',\n",
       " 'cernosek',\n",
       " 'certain',\n",
       " 'ces',\n",
       " 'chad',\n",
       " 'chairman',\n",
       " 'chance',\n",
       " 'change',\n",
       " 'changed',\n",
       " 'changes',\n",
       " 'changing',\n",
       " 'channel',\n",
       " 'charge',\n",
       " 'charged',\n",
       " 'charges',\n",
       " 'charlene',\n",
       " 'charles',\n",
       " 'charlie',\n",
       " 'charlotte',\n",
       " 'charset',\n",
       " 'cheap',\n",
       " 'cheapest',\n",
       " 'check',\n",
       " 'checked',\n",
       " 'checking',\n",
       " 'cherry',\n",
       " 'cheryl',\n",
       " 'chief',\n",
       " 'child',\n",
       " 'children',\n",
       " 'choate',\n",
       " 'choice',\n",
       " 'chokshi',\n",
       " 'choose',\n",
       " 'chris',\n",
       " 'christmas',\n",
       " 'christy',\n",
       " 'church',\n",
       " 'cia',\n",
       " 'cialis',\n",
       " 'cindy',\n",
       " 'cisco',\n",
       " 'city',\n",
       " 'claim',\n",
       " 'claims',\n",
       " 'clarification',\n",
       " 'class',\n",
       " 'clean',\n",
       " 'clear',\n",
       " 'clearance',\n",
       " 'cleburne',\n",
       " 'clem',\n",
       " 'click',\n",
       " 'clicking',\n",
       " 'client',\n",
       " 'close',\n",
       " 'closed',\n",
       " 'clynes',\n",
       " 'co',\n",
       " 'coast',\n",
       " 'coastal',\n",
       " 'code',\n",
       " 'cokinos',\n",
       " 'cold',\n",
       " 'collection',\n",
       " 'college',\n",
       " 'color',\n",
       " 'column',\n",
       " 'com',\n",
       " 'come',\n",
       " 'comes',\n",
       " 'comfort',\n",
       " 'coming',\n",
       " 'comments',\n",
       " 'commercial',\n",
       " 'commission',\n",
       " 'committed',\n",
       " 'committee',\n",
       " 'commodity',\n",
       " 'common',\n",
       " 'communicate',\n",
       " 'communication',\n",
       " 'communications',\n",
       " 'community',\n",
       " 'companies',\n",
       " 'company',\n",
       " 'compaq',\n",
       " 'compare',\n",
       " 'compared',\n",
       " 'compensation',\n",
       " 'competition',\n",
       " 'competitive',\n",
       " 'complaints',\n",
       " 'complete',\n",
       " 'completed',\n",
       " 'completely',\n",
       " 'completeness',\n",
       " 'completion',\n",
       " 'compliance',\n",
       " 'compressor',\n",
       " 'computer',\n",
       " 'computron',\n",
       " 'concern',\n",
       " 'concerned',\n",
       " 'concerning',\n",
       " 'concerns',\n",
       " 'conditions',\n",
       " 'conference',\n",
       " 'confidence',\n",
       " 'confidential',\n",
       " 'confidentiality',\n",
       " 'confirm',\n",
       " 'confirmation',\n",
       " 'confirmed',\n",
       " 'conflict',\n",
       " 'congress',\n",
       " 'connected',\n",
       " 'connection',\n",
       " 'connie',\n",
       " 'consemiu',\n",
       " 'consider',\n",
       " 'considered',\n",
       " 'consistent',\n",
       " 'constitutes',\n",
       " 'construed',\n",
       " 'consultation',\n",
       " 'consumer',\n",
       " 'consumers',\n",
       " 'contact',\n",
       " 'contacted',\n",
       " 'contacting',\n",
       " 'contacts',\n",
       " 'contain',\n",
       " 'contained',\n",
       " 'contains',\n",
       " 'content',\n",
       " 'contents',\n",
       " 'continue',\n",
       " 'continued',\n",
       " 'continues',\n",
       " 'continuing',\n",
       " 'contract',\n",
       " 'contracts',\n",
       " 'contractual',\n",
       " 'control',\n",
       " 'convenience',\n",
       " 'convenient',\n",
       " 'conversation',\n",
       " 'cook',\n",
       " 'cooperation',\n",
       " 'coordinate',\n",
       " 'copied',\n",
       " 'copies',\n",
       " 'copy',\n",
       " 'core',\n",
       " 'corel',\n",
       " 'cornhusker',\n",
       " 'corp',\n",
       " 'corporate',\n",
       " 'corporation',\n",
       " 'correct',\n",
       " 'corrected',\n",
       " 'correction',\n",
       " 'correctly',\n",
       " 'cost',\n",
       " 'costs',\n",
       " 'cotten',\n",
       " 'cotton',\n",
       " 'could',\n",
       " 'couldn',\n",
       " 'count',\n",
       " 'counterparties',\n",
       " 'counterparty',\n",
       " 'countries',\n",
       " 'country',\n",
       " 'county',\n",
       " 'couple',\n",
       " 'course',\n",
       " 'cousino',\n",
       " 'cover',\n",
       " 'coverage',\n",
       " 'covered',\n",
       " 'cp',\n",
       " 'cpr',\n",
       " 'craig',\n",
       " 'create',\n",
       " 'created',\n",
       " 'creating',\n",
       " 'creative',\n",
       " 'credit',\n",
       " 'critical',\n",
       " 'cross',\n",
       " 'crosstex',\n",
       " 'cs',\n",
       " 'csikos',\n",
       " 'current',\n",
       " 'currently',\n",
       " 'customer',\n",
       " 'customers',\n",
       " 'customerservice',\n",
       " 'cut',\n",
       " 'cynthia',\n",
       " 'da',\n",
       " 'daily',\n",
       " 'dallas',\n",
       " 'dan',\n",
       " 'daniel',\n",
       " 'danny',\n",
       " 'daren',\n",
       " 'darrel',\n",
       " 'darren',\n",
       " 'darron',\n",
       " 'data',\n",
       " 'database',\n",
       " 'date',\n",
       " 'dated',\n",
       " 'dates',\n",
       " 'dating',\n",
       " 'dave',\n",
       " 'david',\n",
       " 'davis',\n",
       " 'dawn',\n",
       " 'day',\n",
       " 'days',\n",
       " 'de',\n",
       " 'deadline',\n",
       " 'deal',\n",
       " 'dealer',\n",
       " 'dealers',\n",
       " 'deals',\n",
       " 'dear',\n",
       " 'death',\n",
       " 'debbie',\n",
       " 'dec',\n",
       " 'december',\n",
       " 'decide',\n",
       " 'decided',\n",
       " 'deciding',\n",
       " 'decision',\n",
       " 'decisions',\n",
       " 'decrease',\n",
       " 'degree',\n",
       " 'delete',\n",
       " 'deliver',\n",
       " 'delivered',\n",
       " 'deliveries',\n",
       " 'delivering',\n",
       " 'delivery',\n",
       " 'dell',\n",
       " 'demand',\n",
       " 'demokritos',\n",
       " 'department',\n",
       " 'description',\n",
       " 'design',\n",
       " 'designated',\n",
       " 'designed',\n",
       " 'desk',\n",
       " 'desks',\n",
       " 'detail',\n",
       " 'detailed',\n",
       " 'details',\n",
       " 'determine',\n",
       " 'determined',\n",
       " 'develop',\n",
       " 'developed',\n",
       " 'developing',\n",
       " 'development',\n",
       " 'devon',\n",
       " 'dfarmer',\n",
       " 'dial',\n",
       " 'diamond',\n",
       " 'diane',\n",
       " 'did',\n",
       " 'didn',\n",
       " 'died',\n",
       " 'differ',\n",
       " 'difference',\n",
       " 'different',\n",
       " 'digital',\n",
       " 'diligence',\n",
       " 'direct',\n",
       " 'direction',\n",
       " 'directly',\n",
       " 'director',\n",
       " 'directors',\n",
       " 'disclosure',\n",
       " 'discount',\n",
       " 'discounts',\n",
       " 'discovered',\n",
       " 'discreet',\n",
       " 'discrepancies',\n",
       " 'discuss',\n",
       " 'discussed',\n",
       " 'discussion',\n",
       " 'discussions',\n",
       " 'distribute',\n",
       " 'distributed',\n",
       " 'distribution',\n",
       " 'distributorjebel',\n",
       " 'do',\n",
       " 'doc',\n",
       " 'doctor',\n",
       " 'doctors',\n",
       " 'document',\n",
       " 'documentation',\n",
       " 'documents',\n",
       " 'does',\n",
       " 'doesn',\n",
       " 'doing',\n",
       " 'dollar',\n",
       " 'dollars',\n",
       " 'domestic',\n",
       " 'don',\n",
       " 'donald',\n",
       " 'done',\n",
       " 'donna',\n",
       " 'door',\n",
       " 'double',\n",
       " 'doubt',\n",
       " 'doug',\n",
       " 'dow',\n",
       " 'down',\n",
       " 'download',\n",
       " 'dr',\n",
       " 'draft',\n",
       " 'draw',\n",
       " 'drinks',\n",
       " 'drive',\n",
       " 'drop',\n",
       " 'drug',\n",
       " 'drugs',\n",
       " 'dth',\n",
       " 'dudley',\n",
       " 'due',\n",
       " 'duke',\n",
       " 'during',\n",
       " 'duty',\n",
       " 'dvd',\n",
       " 'dy',\n",
       " 'dynegy',\n",
       " 'each',\n",
       " 'earl',\n",
       " 'earlier',\n",
       " 'early',\n",
       " 'easier',\n",
       " 'easily',\n",
       " 'east',\n",
       " 'eastrans',\n",
       " 'easttexas',\n",
       " 'easy',\n",
       " 'eb',\n",
       " 'ecom',\n",
       " 'economic',\n",
       " 'ect',\n",
       " 'ed',\n",
       " 'eddie',\n",
       " 'edit',\n",
       " 'edition',\n",
       " 'edmondson',\n",
       " 'education',\n",
       " 'edward',\n",
       " 'ees',\n",
       " 'eff',\n",
       " 'effect',\n",
       " 'effective',\n",
       " 'effects',\n",
       " 'efficient',\n",
       " 'effort',\n",
       " 'efforts',\n",
       " 'egmnom',\n",
       " 'egpfc',\n",
       " 'eiben',\n",
       " 'eight',\n",
       " 'eileen',\n",
       " 'either',\n",
       " 'el',\n",
       " 'electric',\n",
       " 'electronic',\n",
       " 'eliminate',\n",
       " 'elizabeth',\n",
       " 'elsa',\n",
       " 'else',\n",
       " 'email',\n",
       " 'emails',\n",
       " 'emerging',\n",
       " 'emirates',\n",
       " 'employee',\n",
       " 'employees',\n",
       " 'en',\n",
       " 'ena',\n",
       " 'end',\n",
       " 'energy',\n",
       " 'engage',\n",
       " 'enhanced',\n",
       " 'enjoy',\n",
       " 'enough',\n",
       " 'enquiries',\n",
       " 'enron',\n",
       " 'enronavailso',\n",
       " 'enrononline',\n",
       " 'enronxgate',\n",
       " 'enserch',\n",
       " 'ensure',\n",
       " 'enter',\n",
       " 'entered',\n",
       " 'entering',\n",
       " 'enterprise',\n",
       " 'entertainment',\n",
       " 'entex',\n",
       " 'entire',\n",
       " 'entities',\n",
       " 'entity',\n",
       " 'entries',\n",
       " 'entry',\n",
       " 'environment',\n",
       " 'eog',\n",
       " 'eol',\n",
       " 'epson',\n",
       " 'equipment',\n",
       " 'equistar',\n",
       " 'equity',\n",
       " 'erection',\n",
       " 'erections',\n",
       " 'eric',\n",
       " 'error',\n",
       " 'errors',\n",
       " 'especially',\n",
       " 'est',\n",
       " 'esther',\n",
       " 'estimate',\n",
       " 'estimated',\n",
       " 'estimates',\n",
       " 'et',\n",
       " 'etc',\n",
       " 'europe',\n",
       " 'european',\n",
       " 'even',\n",
       " 'evening',\n",
       " 'event',\n",
       " 'events',\n",
       " 'ever',\n",
       " 'evergreen',\n",
       " 'every',\n",
       " 'everyone',\n",
       " 'everything',\n",
       " 'ex',\n",
       " 'exact',\n",
       " 'exactly',\n",
       " 'example',\n",
       " 'examples',\n",
       " 'except',\n",
       " 'exception',\n",
       " 'exceptions',\n",
       " 'excess',\n",
       " 'exchange',\n",
       " 'exciting',\n",
       " 'exclusive',\n",
       " 'executed',\n",
       " 'executive',\n",
       " 'exercise',\n",
       " 'existing',\n",
       " 'expect',\n",
       " 'expectations',\n",
       " 'expected',\n",
       " 'expects',\n",
       " 'expense',\n",
       " 'expenses',\n",
       " 'expensive',\n",
       " 'experience',\n",
       " 'experienced',\n",
       " 'experiencing',\n",
       " 'expired',\n",
       " 'expires',\n",
       " 'explode',\n",
       " 'exploration',\n",
       " 'export',\n",
       " 'express',\n",
       " 'expressed',\n",
       " 'ext',\n",
       " 'extend',\n",
       " 'extended',\n",
       " 'extension',\n",
       " 'external',\n",
       " 'extra',\n",
       " 'extremely',\n",
       " 'exxon',\n",
       " 'eye',\n",
       " 'eyes',\n",
       " 'face',\n",
       " 'facilitate',\n",
       " 'facilities',\n",
       " 'facility',\n",
       " 'fact',\n",
       " 'factor',\n",
       " 'factors',\n",
       " 'facts',\n",
       " 'factual',\n",
       " 'failure',\n",
       " 'fall',\n",
       " 'familiar',\n",
       " 'family',\n",
       " 'far',\n",
       " 'farmer',\n",
       " 'fast',\n",
       " 'faster',\n",
       " 'fat',\n",
       " 'father',\n",
       " 'favorite',\n",
       " 'fax',\n",
       " 'fcv',\n",
       " 'fda',\n",
       " 'feature',\n",
       " 'featured',\n",
       " 'features',\n",
       " 'feb',\n",
       " 'february',\n",
       " 'federal',\n",
       " 'fee',\n",
       " 'feedback',\n",
       " 'feel',\n",
       " 'feeling',\n",
       " 'fees',\n",
       " 'felipe',\n",
       " 'few',\n",
       " 'field',\n",
       " 'file',\n",
       " 'files',\n",
       " 'filings',\n",
       " 'fill',\n",
       " 'filled',\n",
       " 'final',\n",
       " 'finalize',\n",
       " 'finally',\n",
       " 'finance',\n",
       " 'financial',\n",
       " 'financing',\n",
       " 'find',\n",
       " 'finding',\n",
       " 'fine',\n",
       " 'fire',\n",
       " 'firm',\n",
       " 'first',\n",
       " 'five',\n",
       " 'fix',\n",
       " 'fixed',\n",
       " 'fl',\n",
       " 'flash',\n",
       " 'flat',\n",
       " 'flight',\n",
       " 'floor',\n",
       " 'florida',\n",
       " 'flow',\n",
       " 'flowed',\n",
       " 'flowing',\n",
       " 'flows',\n",
       " 'flynn',\n",
       " 'focus',\n",
       " 'follow',\n",
       " 'following',\n",
       " 'follows',\n",
       " 'font',\n",
       " 'for',\n",
       " 'force',\n",
       " 'forecast',\n",
       " 'foreign',\n",
       " 'foresee',\n",
       " 'forever',\n",
       " 'forget',\n",
       " 'form',\n",
       " 'format',\n",
       " 'former',\n",
       " 'forms',\n",
       " 'formula',\n",
       " 'forth',\n",
       " 'fortune',\n",
       " 'forward',\n",
       " 'forwarded',\n",
       " 'forwarding',\n",
       " 'fosdick',\n",
       " 'found',\n",
       " 'four',\n",
       " 'frank',\n",
       " 'franklin',\n",
       " 'fred',\n",
       " 'free',\n",
       " 'fri',\n",
       " 'friday',\n",
       " 'friend',\n",
       " 'friends',\n",
       " 'from',\n",
       " 'front',\n",
       " 'ft',\n",
       " 'ftworth',\n",
       " 'fuel',\n",
       " 'fuels',\n",
       " 'full',\n",
       " 'fully',\n",
       " 'fun',\n",
       " 'fund',\n",
       " 'funds',\n",
       " 'further',\n",
       " 'future',\n",
       " 'fw',\n",
       " 'fwd',\n",
       " 'fyi',\n",
       " 'gain',\n",
       " 'gains',\n",
       " 'game',\n",
       " 'games',\n",
       " 'garrick',\n",
       " 'gary',\n",
       " 'gas',\n",
       " 'gathered',\n",
       " 'gathering',\n",
       " 'gave',\n",
       " 'gay',\n",
       " 'gco',\n",
       " 'gcs',\n",
       " ...]"
      ]
     },
     "execution_count": 5,
     "metadata": {},
     "output_type": "execute_result"
    }
   ],
   "source": [
    "vectorizer.get_feature_names()"
   ]
  },
  {
   "cell_type": "markdown",
   "metadata": {},
   "source": [
    "#### Visualize the distribution of the dataset "
   ]
  },
  {
   "cell_type": "markdown",
   "metadata": {},
   "source": [
    "As Seen from the Dataset there is a small imbalance between the positive and the negative class. But before we treat it the imbalance, we first test it on a base model"
   ]
  },
  {
   "cell_type": "markdown",
   "metadata": {},
   "source": [
    "### 3. Train Test Split"
   ]
  },
  {
   "cell_type": "code",
   "execution_count": 6,
   "metadata": {},
   "outputs": [],
   "source": [
    "y = data[\"label_num\"]\n",
    "# X = data2.drop([\"label\",\"label_num\"],axis=1)\n",
    "\n",
    "X_train,X_test,y_train,y_test = train_test_split(X.toarray(),y,test_size=0.1,random_state=42)"
   ]
  },
  {
   "cell_type": "code",
   "execution_count": 7,
   "metadata": {},
   "outputs": [
    {
     "data": {
      "text/plain": [
       "(4653, 2771)"
      ]
     },
     "execution_count": 7,
     "metadata": {},
     "output_type": "execute_result"
    }
   ],
   "source": [
    "X_train.shape"
   ]
  },
  {
   "cell_type": "code",
   "execution_count": 8,
   "metadata": {},
   "outputs": [
    {
     "data": {
      "text/plain": [
       "(518, 2771)"
      ]
     },
     "execution_count": 8,
     "metadata": {},
     "output_type": "execute_result"
    }
   ],
   "source": [
    "X_test.shape"
   ]
  },
  {
   "cell_type": "code",
   "execution_count": 9,
   "metadata": {},
   "outputs": [
    {
     "name": "stdout",
     "output_type": "stream",
     "text": [
      "train distribution:\n",
      "0    3301\n",
      "1    1352\n",
      "Name: label_num, dtype: int64\n",
      "\n",
      "test distribution:\n",
      "0    371\n",
      "1    147\n",
      "Name: label_num, dtype: int64\n"
     ]
    }
   ],
   "source": [
    "print(\"train distribution:\")\n",
    "print( y_train.value_counts())\n",
    "print()\n",
    "print(\"test distribution:\" )\n",
    "print(y_test.value_counts())"
   ]
  },
  {
   "cell_type": "markdown",
   "metadata": {},
   "source": [
    "### 4. Imbalance Treatment"
   ]
  },
  {
   "cell_type": "code",
   "execution_count": 10,
   "metadata": {},
   "outputs": [],
   "source": [
    "from imblearn.over_sampling import SMOTE\n",
    "sm = SMOTE(random_state=42)\n",
    "X_res, y_res = sm.fit_resample(X_train, y_train)"
   ]
  },
  {
   "cell_type": "code",
   "execution_count": 11,
   "metadata": {},
   "outputs": [
    {
     "data": {
      "text/plain": [
       "1    3301\n",
       "0    3301\n",
       "Name: label_num, dtype: int64"
      ]
     },
     "execution_count": 11,
     "metadata": {},
     "output_type": "execute_result"
    }
   ],
   "source": [
    "y_res.value_counts()"
   ]
  },
  {
   "cell_type": "code",
   "execution_count": 12,
   "metadata": {},
   "outputs": [],
   "source": [
    "X_train,X_val,y_train,y_val = train_test_split(X_res,y_res,test_size=0.1,random_state=42)"
   ]
  },
  {
   "cell_type": "code",
   "execution_count": 13,
   "metadata": {},
   "outputs": [
    {
     "data": {
      "text/plain": [
       "0    338\n",
       "1    323\n",
       "Name: label_num, dtype: int64"
      ]
     },
     "execution_count": 13,
     "metadata": {},
     "output_type": "execute_result"
    }
   ],
   "source": [
    "y_val.value_counts()"
   ]
  },
  {
   "cell_type": "markdown",
   "metadata": {},
   "source": [
    "### 5. Machine Learning Models"
   ]
  },
  {
   "cell_type": "code",
   "execution_count": 14,
   "metadata": {},
   "outputs": [],
   "source": [
    "def fit_model(x_tr,y_tr):\n",
    "    models = []\n",
    "    \n",
    "    # Naive Bayes model\n",
    "    from sklearn.naive_bayes import GaussianNB\n",
    "    gnb = GaussianNB()\n",
    "    gnb.fit(X_train, y_train)\n",
    "    models.append(('GaussianNB Classifier', gnb))\n",
    "    \n",
    "    # multinominal nave bayes model\n",
    "    from sklearn.naive_bayes import MultinomialNB\n",
    "    mnb = MultinomialNB()\n",
    "    mnb.fit(X_train, y_train)\n",
    "    models.append(('MultinomialNB Classifier', mnb))\n",
    "    \n",
    "    #bernoulie nave bayes model\n",
    "    from sklearn.naive_bayes import BernoulliNB\n",
    "    bnb = BernoulliNB()\n",
    "    bnb.fit(X_train, y_train)\n",
    "    models.append(('BernoulliNB Classifier', bnb))\n",
    "\n",
    "    # Random Forest\n",
    "    from sklearn.ensemble import RandomForestClassifier\n",
    "    RandomForest_model = RandomForestClassifier(n_estimators=250,\n",
    "                                                max_depth=12,\n",
    "                                                min_samples_leaf=16)\n",
    "    RandomForest_model.fit(x_tr,y_tr)\n",
    "    models.append(('RandomForest Classifier', RandomForest_model))\n",
    "\n",
    "    # Logestic Regression\n",
    "    from sklearn.linear_model import LogisticRegression\n",
    "    log_model = LogisticRegression()\n",
    "    log_model.fit(x_tr,y_tr)\n",
    "    models.append(('LogisticRegression', log_model))\n",
    "\n",
    "    # Decision Tree\n",
    "    from sklearn.tree import DecisionTreeClassifier\n",
    "    decision_model = DecisionTreeClassifier(max_depth=12,min_samples_split=8)\n",
    "    decision_model.fit(x_tr,y_tr)\n",
    "    models.append(('Decision Tree Classifier', decision_model))\n",
    "\n",
    "    # SVM\n",
    "    from sklearn.svm import SVC\n",
    "    svc_model = SVC()\n",
    "    svc_model.fit(x_tr, y_tr)\n",
    "    models.append(('SVM Classifier', svc_model))\n",
    "\n",
    "    # KNN\n",
    "    from sklearn.neighbors import KNeighborsClassifier\n",
    "    knn_model = KNeighborsClassifier(n_neighbors = 7)\n",
    "    knn_model.fit(x_tr, y_tr)\n",
    "    models.append(('KNeighborsClassifier', knn_model))\n",
    "\n",
    "    # XGBoost\n",
    "    from xgboost import XGBClassifier\n",
    "    XGB_model = XGBClassifier(use_label_encoder=False)\n",
    "    XGB_model.fit(x_tr, y_tr)\n",
    "    models.append(('XGBoost', XGB_model))\n",
    "\n",
    "    # voting classifier\n",
    "    from sklearn.ensemble import VotingClassifier\n",
    "    combined_model = [\n",
    "                      ('Decision Tree Classifier', decision_model), \n",
    "\n",
    "                      ('KNeighborsClassifier', knn_model), \n",
    "\n",
    "                      ('LogisticRegression', log_model),\n",
    "\n",
    "                      ('XGBoost', XGB_model)\n",
    "\n",
    "                     ]\n",
    "    VotingClassifier =  VotingClassifier(estimators = combined_model,voting = 'soft', n_jobs=-1)\n",
    "    VotingClassifier.fit(x_tr, y_tr)\n",
    "    models.append(('VotingClassifier', VotingClassifier))\n",
    "    \n",
    "\n",
    "    return models\n",
    "\n"
   ]
  },
  {
   "cell_type": "code",
   "execution_count": 15,
   "metadata": {},
   "outputs": [],
   "source": [
    "# model evaluations\n",
    "from sklearn.metrics import confusion_matrix,classification_report,accuracy_score,plot_roc_curve\n",
    "from sklearn import metrics\n",
    "\n",
    "def eval_model(models,x,y):\n",
    "\n",
    "    for i, v in models:\n",
    "\n",
    "    #     scores = cross_val_score(v, x, y, cv=10)\n",
    "\n",
    "        accuracy = metrics.accuracy_score(y, v.predict(x))\n",
    "\n",
    "        confusion = confusion_matrix(y, v.predict(x))\n",
    "\n",
    "        classification = classification_report(y, v.predict(x),zero_division= 0)\n",
    "\n",
    "        print()\n",
    "\n",
    "        print('=============================={}  Model Evaluation =============================='.format(i))\n",
    "\n",
    "        print(\"Confusion matrix:\" \"\\n\", confusion)\n",
    "\n",
    "        print()\n",
    "        \n",
    "        print(\"Accuracy:\" \"\\n\", accuracy)\n",
    "\n",
    "        print()\n",
    "\n",
    "        print(\"Classification report:\" \"\\n\", classification) \n",
    "\n",
    "        print()\n",
    "\n",
    "        plot_roc_curve(v,x,y)\n"
   ]
  },
  {
   "cell_type": "markdown",
   "metadata": {},
   "source": [
    "#### Train the Model"
   ]
  },
  {
   "cell_type": "code",
   "execution_count": 16,
   "metadata": {},
   "outputs": [
    {
     "name": "stderr",
     "output_type": "stream",
     "text": [
      "/home/betty/anaconda3/lib/python3.7/site-packages/sklearn/linear_model/_logistic.py:818: ConvergenceWarning: lbfgs failed to converge (status=1):\n",
      "STOP: TOTAL NO. of ITERATIONS REACHED LIMIT.\n",
      "\n",
      "Increase the number of iterations (max_iter) or scale the data as shown in:\n",
      "    https://scikit-learn.org/stable/modules/preprocessing.html\n",
      "Please also refer to the documentation for alternative solver options:\n",
      "    https://scikit-learn.org/stable/modules/linear_model.html#logistic-regression\n",
      "  extra_warning_msg=_LOGISTIC_SOLVER_CONVERGENCE_MSG,\n"
     ]
    },
    {
     "name": "stdout",
     "output_type": "stream",
     "text": [
      "[08:39:53] WARNING: /tmp/build/80754af9/xgboost-split_1619724447847/work/src/learner.cc:1061: Starting in XGBoost 1.3.0, the default evaluation metric used with the objective 'binary:logistic' was changed from 'error' to 'logloss'. Explicitly set eval_metric if you'd like to restore the old behavior.\n"
     ]
    }
   ],
   "source": [
    "model = fit_model(X_train,y_train)"
   ]
  },
  {
   "cell_type": "markdown",
   "metadata": {},
   "source": [
    "#### Evaluate the Models"
   ]
  },
  {
   "cell_type": "code",
   "execution_count": 17,
   "metadata": {},
   "outputs": [
    {
     "name": "stdout",
     "output_type": "stream",
     "text": [
      "Evaluation on the training set\n",
      "\n",
      "==============================GaussianNB Classifier  Model Evaluation ==============================\n",
      "Confusion matrix:\n",
      " [[2868   95]\n",
      " [  10 2968]]\n",
      "\n",
      "Accuracy:\n",
      " 0.9823262077091399\n",
      "\n",
      "Classification report:\n",
      "               precision    recall  f1-score   support\n",
      "\n",
      "           0       1.00      0.97      0.98      2963\n",
      "           1       0.97      1.00      0.98      2978\n",
      "\n",
      "    accuracy                           0.98      5941\n",
      "   macro avg       0.98      0.98      0.98      5941\n",
      "weighted avg       0.98      0.98      0.98      5941\n",
      "\n",
      "\n"
     ]
    },
    {
     "name": "stderr",
     "output_type": "stream",
     "text": [
      "/home/betty/anaconda3/lib/python3.7/site-packages/sklearn/utils/deprecation.py:87: FutureWarning: Function plot_roc_curve is deprecated; Function `plot_roc_curve` is deprecated in 1.0 and will be removed in 1.2. Use one of the class methods: RocCurveDisplay.from_predictions or RocCurveDisplay.from_estimator.\n",
      "  warnings.warn(msg, category=FutureWarning)\n"
     ]
    },
    {
     "name": "stdout",
     "output_type": "stream",
     "text": [
      "\n",
      "==============================MultinomialNB Classifier  Model Evaluation ==============================\n",
      "Confusion matrix:\n",
      " [[2833  130]\n",
      " [ 398 2580]]\n",
      "\n",
      "Accuracy:\n",
      " 0.9111260730516748\n",
      "\n",
      "Classification report:\n",
      "               precision    recall  f1-score   support\n",
      "\n",
      "           0       0.88      0.96      0.91      2963\n",
      "           1       0.95      0.87      0.91      2978\n",
      "\n",
      "    accuracy                           0.91      5941\n",
      "   macro avg       0.91      0.91      0.91      5941\n",
      "weighted avg       0.91      0.91      0.91      5941\n",
      "\n",
      "\n"
     ]
    },
    {
     "name": "stderr",
     "output_type": "stream",
     "text": [
      "/home/betty/anaconda3/lib/python3.7/site-packages/sklearn/utils/deprecation.py:87: FutureWarning: Function plot_roc_curve is deprecated; Function `plot_roc_curve` is deprecated in 1.0 and will be removed in 1.2. Use one of the class methods: RocCurveDisplay.from_predictions or RocCurveDisplay.from_estimator.\n",
      "  warnings.warn(msg, category=FutureWarning)\n"
     ]
    },
    {
     "name": "stdout",
     "output_type": "stream",
     "text": [
      "\n",
      "==============================BernoulliNB Classifier  Model Evaluation ==============================\n",
      "Confusion matrix:\n",
      " [[2763  200]\n",
      " [   9 2969]]\n",
      "\n",
      "Accuracy:\n",
      " 0.9648207372496213\n",
      "\n",
      "Classification report:\n",
      "               precision    recall  f1-score   support\n",
      "\n",
      "           0       1.00      0.93      0.96      2963\n",
      "           1       0.94      1.00      0.97      2978\n",
      "\n",
      "    accuracy                           0.96      5941\n",
      "   macro avg       0.97      0.96      0.96      5941\n",
      "weighted avg       0.97      0.96      0.96      5941\n",
      "\n",
      "\n"
     ]
    },
    {
     "name": "stderr",
     "output_type": "stream",
     "text": [
      "/home/betty/anaconda3/lib/python3.7/site-packages/sklearn/utils/deprecation.py:87: FutureWarning: Function plot_roc_curve is deprecated; Function `plot_roc_curve` is deprecated in 1.0 and will be removed in 1.2. Use one of the class methods: RocCurveDisplay.from_predictions or RocCurveDisplay.from_estimator.\n",
      "  warnings.warn(msg, category=FutureWarning)\n"
     ]
    },
    {
     "name": "stdout",
     "output_type": "stream",
     "text": [
      "\n",
      "==============================RandomForest Classifier  Model Evaluation ==============================\n",
      "Confusion matrix:\n",
      " [[2666  297]\n",
      " [   6 2972]]\n",
      "\n",
      "Accuracy:\n",
      " 0.9489984851035179\n",
      "\n",
      "Classification report:\n",
      "               precision    recall  f1-score   support\n",
      "\n",
      "           0       1.00      0.90      0.95      2963\n",
      "           1       0.91      1.00      0.95      2978\n",
      "\n",
      "    accuracy                           0.95      5941\n",
      "   macro avg       0.95      0.95      0.95      5941\n",
      "weighted avg       0.95      0.95      0.95      5941\n",
      "\n",
      "\n"
     ]
    },
    {
     "name": "stderr",
     "output_type": "stream",
     "text": [
      "/home/betty/anaconda3/lib/python3.7/site-packages/sklearn/utils/deprecation.py:87: FutureWarning: Function plot_roc_curve is deprecated; Function `plot_roc_curve` is deprecated in 1.0 and will be removed in 1.2. Use one of the class methods: RocCurveDisplay.from_predictions or RocCurveDisplay.from_estimator.\n",
      "  warnings.warn(msg, category=FutureWarning)\n"
     ]
    },
    {
     "name": "stdout",
     "output_type": "stream",
     "text": [
      "\n",
      "==============================LogisticRegression  Model Evaluation ==============================\n",
      "Confusion matrix:\n",
      " [[2941   22]\n",
      " [   0 2978]]\n",
      "\n",
      "Accuracy:\n",
      " 0.9962969197104864\n",
      "\n",
      "Classification report:\n",
      "               precision    recall  f1-score   support\n",
      "\n",
      "           0       1.00      0.99      1.00      2963\n",
      "           1       0.99      1.00      1.00      2978\n",
      "\n",
      "    accuracy                           1.00      5941\n",
      "   macro avg       1.00      1.00      1.00      5941\n",
      "weighted avg       1.00      1.00      1.00      5941\n",
      "\n",
      "\n"
     ]
    },
    {
     "name": "stderr",
     "output_type": "stream",
     "text": [
      "/home/betty/anaconda3/lib/python3.7/site-packages/sklearn/utils/deprecation.py:87: FutureWarning: Function plot_roc_curve is deprecated; Function `plot_roc_curve` is deprecated in 1.0 and will be removed in 1.2. Use one of the class methods: RocCurveDisplay.from_predictions or RocCurveDisplay.from_estimator.\n",
      "  warnings.warn(msg, category=FutureWarning)\n"
     ]
    },
    {
     "name": "stdout",
     "output_type": "stream",
     "text": [
      "\n",
      "==============================Decision Tree Classifier  Model Evaluation ==============================\n",
      "Confusion matrix:\n",
      " [[2726  237]\n",
      " [  38 2940]]\n",
      "\n",
      "Accuracy:\n",
      " 0.9537114963810807\n",
      "\n",
      "Classification report:\n",
      "               precision    recall  f1-score   support\n",
      "\n",
      "           0       0.99      0.92      0.95      2963\n",
      "           1       0.93      0.99      0.96      2978\n",
      "\n",
      "    accuracy                           0.95      5941\n",
      "   macro avg       0.96      0.95      0.95      5941\n",
      "weighted avg       0.96      0.95      0.95      5941\n",
      "\n",
      "\n"
     ]
    },
    {
     "name": "stderr",
     "output_type": "stream",
     "text": [
      "/home/betty/anaconda3/lib/python3.7/site-packages/sklearn/utils/deprecation.py:87: FutureWarning: Function plot_roc_curve is deprecated; Function `plot_roc_curve` is deprecated in 1.0 and will be removed in 1.2. Use one of the class methods: RocCurveDisplay.from_predictions or RocCurveDisplay.from_estimator.\n",
      "  warnings.warn(msg, category=FutureWarning)\n"
     ]
    },
    {
     "name": "stdout",
     "output_type": "stream",
     "text": [
      "\n",
      "==============================SVM Classifier  Model Evaluation ==============================\n",
      "Confusion matrix:\n",
      " [[2729  234]\n",
      " [   1 2977]]\n",
      "\n",
      "Accuracy:\n",
      " 0.9604443696347417\n",
      "\n",
      "Classification report:\n",
      "               precision    recall  f1-score   support\n",
      "\n",
      "           0       1.00      0.92      0.96      2963\n",
      "           1       0.93      1.00      0.96      2978\n",
      "\n",
      "    accuracy                           0.96      5941\n",
      "   macro avg       0.96      0.96      0.96      5941\n",
      "weighted avg       0.96      0.96      0.96      5941\n",
      "\n",
      "\n"
     ]
    },
    {
     "name": "stderr",
     "output_type": "stream",
     "text": [
      "/home/betty/anaconda3/lib/python3.7/site-packages/sklearn/utils/deprecation.py:87: FutureWarning: Function plot_roc_curve is deprecated; Function `plot_roc_curve` is deprecated in 1.0 and will be removed in 1.2. Use one of the class methods: RocCurveDisplay.from_predictions or RocCurveDisplay.from_estimator.\n",
      "  warnings.warn(msg, category=FutureWarning)\n"
     ]
    },
    {
     "name": "stdout",
     "output_type": "stream",
     "text": [
      "\n",
      "==============================KNeighborsClassifier  Model Evaluation ==============================\n",
      "Confusion matrix:\n",
      " [[1908 1055]\n",
      " [   1 2977]]\n",
      "\n",
      "Accuracy:\n",
      " 0.8222521461033496\n",
      "\n",
      "Classification report:\n",
      "               precision    recall  f1-score   support\n",
      "\n",
      "           0       1.00      0.64      0.78      2963\n",
      "           1       0.74      1.00      0.85      2978\n",
      "\n",
      "    accuracy                           0.82      5941\n",
      "   macro avg       0.87      0.82      0.82      5941\n",
      "weighted avg       0.87      0.82      0.82      5941\n",
      "\n",
      "\n"
     ]
    },
    {
     "name": "stderr",
     "output_type": "stream",
     "text": [
      "/home/betty/anaconda3/lib/python3.7/site-packages/sklearn/utils/deprecation.py:87: FutureWarning: Function plot_roc_curve is deprecated; Function `plot_roc_curve` is deprecated in 1.0 and will be removed in 1.2. Use one of the class methods: RocCurveDisplay.from_predictions or RocCurveDisplay.from_estimator.\n",
      "  warnings.warn(msg, category=FutureWarning)\n"
     ]
    },
    {
     "name": "stdout",
     "output_type": "stream",
     "text": [
      "\n",
      "==============================XGBoost  Model Evaluation ==============================\n",
      "Confusion matrix:\n",
      " [[2937   26]\n",
      " [   0 2978]]\n",
      "\n",
      "Accuracy:\n",
      " 0.9956236323851203\n",
      "\n",
      "Classification report:\n",
      "               precision    recall  f1-score   support\n",
      "\n",
      "           0       1.00      0.99      1.00      2963\n",
      "           1       0.99      1.00      1.00      2978\n",
      "\n",
      "    accuracy                           1.00      5941\n",
      "   macro avg       1.00      1.00      1.00      5941\n",
      "weighted avg       1.00      1.00      1.00      5941\n",
      "\n",
      "\n"
     ]
    },
    {
     "name": "stderr",
     "output_type": "stream",
     "text": [
      "/home/betty/anaconda3/lib/python3.7/site-packages/sklearn/utils/deprecation.py:87: FutureWarning: Function plot_roc_curve is deprecated; Function `plot_roc_curve` is deprecated in 1.0 and will be removed in 1.2. Use one of the class methods: RocCurveDisplay.from_predictions or RocCurveDisplay.from_estimator.\n",
      "  warnings.warn(msg, category=FutureWarning)\n"
     ]
    },
    {
     "name": "stdout",
     "output_type": "stream",
     "text": [
      "\n",
      "==============================VotingClassifier  Model Evaluation ==============================\n",
      "Confusion matrix:\n",
      " [[2877   86]\n",
      " [   0 2978]]\n",
      "\n",
      "Accuracy:\n",
      " 0.9855243225046288\n",
      "\n",
      "Classification report:\n",
      "               precision    recall  f1-score   support\n",
      "\n",
      "           0       1.00      0.97      0.99      2963\n",
      "           1       0.97      1.00      0.99      2978\n",
      "\n",
      "    accuracy                           0.99      5941\n",
      "   macro avg       0.99      0.99      0.99      5941\n",
      "weighted avg       0.99      0.99      0.99      5941\n",
      "\n",
      "\n"
     ]
    },
    {
     "name": "stderr",
     "output_type": "stream",
     "text": [
      "/home/betty/anaconda3/lib/python3.7/site-packages/sklearn/utils/deprecation.py:87: FutureWarning: Function plot_roc_curve is deprecated; Function `plot_roc_curve` is deprecated in 1.0 and will be removed in 1.2. Use one of the class methods: RocCurveDisplay.from_predictions or RocCurveDisplay.from_estimator.\n",
      "  warnings.warn(msg, category=FutureWarning)\n"
     ]
    },
    {
     "data": {
      "image/png": "[encoded data removed]",
      "text/plain": [
       "<Figure size 432x288 with 1 Axes>"
      ]
     },
     "metadata": {
      "needs_background": "light"
     },
     "output_type": "display_data"
    },
    {
     "data": {
      "image/png": "[encoded data removed]",
      "text/plain": [
       "<Figure size 432x288 with 1 Axes>"
      ]
     },
     "metadata": {
      "needs_background": "light"
     },
     "output_type": "display_data"
    },
    {
     "data": {
      "image/png": "[encoded data removed]",
      "text/plain": [
       "<Figure size 432x288 with 1 Axes>"
      ]
     },
     "metadata": {
      "needs_background": "light"
     },
     "output_type": "display_data"
    },
    {
     "data": {
      "image/png": "[encoded data removed]",
      "text/plain": [
       "<Figure size 432x288 with 1 Axes>"
      ]
     },
     "metadata": {
      "needs_background": "light"
     },
     "output_type": "display_data"
    },
    {
     "data": {
      "image/png": "[encoded data removed]",
      "text/plain": [
       "<Figure size 432x288 with 1 Axes>"
      ]
     },
     "metadata": {
      "needs_background": "light"
     },
     "output_type": "display_data"
    },
    {
     "data": {
      "image/png": "[encoded data removed]",
      "text/plain": [
       "<Figure size 432x288 with 1 Axes>"
      ]
     },
     "metadata": {
      "needs_background": "light"
     },
     "output_type": "display_data"
    },
    {
     "data": {
      "image/png": "[encoded data removed]",
      "text/plain": [
       "<Figure size 432x288 with 1 Axes>"
      ]
     },
     "metadata": {
      "needs_background": "light"
     },
     "output_type": "display_data"
    },
    {
     "data": {
      "image/png": "[encoded data removed]",
      "text/plain": [
       "<Figure size 432x288 with 1 Axes>"
      ]
     },
     "metadata": {
      "needs_background": "light"
     },
     "output_type": "display_data"
    },
    {
     "data": {
      "image/png": "[encoded data removed]",
      "text/plain": [
       "<Figure size 432x288 with 1 Axes>"
      ]
     },
     "metadata": {
      "needs_background": "light"
     },
     "output_type": "display_data"
    },
    {
     "data": {
      "image/png": "[encoded data removed]",
      "text/plain": [
       "<Figure size 432x288 with 1 Axes>"
      ]
     },
     "metadata": {
      "needs_background": "light"
     },
     "output_type": "display_data"
    }
   ],
   "source": [
    "print(\"Evaluation on the training set\")\n",
    "eval_model(model,X_train,y_train)"
   ]
  },
  {
   "cell_type": "code",
   "execution_count": 18,
   "metadata": {},
   "outputs": [
    {
     "name": "stdout",
     "output_type": "stream",
     "text": [
      "Evaluation on the training set\n",
      "\n",
      "==============================GaussianNB Classifier  Model Evaluation ==============================\n",
      "Confusion matrix:\n",
      " [[322  16]\n",
      " [  5 318]]\n",
      "\n",
      "Accuracy:\n",
      " 0.9682299546142209\n",
      "\n",
      "Classification report:\n",
      "               precision    recall  f1-score   support\n",
      "\n",
      "           0       0.98      0.95      0.97       338\n",
      "           1       0.95      0.98      0.97       323\n",
      "\n",
      "    accuracy                           0.97       661\n",
      "   macro avg       0.97      0.97      0.97       661\n",
      "weighted avg       0.97      0.97      0.97       661\n",
      "\n",
      "\n",
      "\n",
      "==============================MultinomialNB Classifier  Model Evaluation ==============================\n",
      "Confusion matrix:\n",
      " [[314  24]\n",
      " [ 51 272]]\n",
      "\n",
      "Accuracy:\n",
      " 0.886535552193646\n",
      "\n",
      "Classification report:\n",
      "               precision    recall  f1-score   support\n",
      "\n",
      "           0       0.86      0.93      0.89       338\n",
      "           1       0.92      0.84      0.88       323\n",
      "\n",
      "    accuracy                           0.89       661\n",
      "   macro avg       0.89      0.89      0.89       661\n",
      "weighted avg       0.89      0.89      0.89       661\n",
      "\n",
      "\n"
     ]
    },
    {
     "name": "stderr",
     "output_type": "stream",
     "text": [
      "/home/betty/anaconda3/lib/python3.7/site-packages/sklearn/utils/deprecation.py:87: FutureWarning: Function plot_roc_curve is deprecated; Function `plot_roc_curve` is deprecated in 1.0 and will be removed in 1.2. Use one of the class methods: RocCurveDisplay.from_predictions or RocCurveDisplay.from_estimator.\n",
      "  warnings.warn(msg, category=FutureWarning)\n",
      "/home/betty/anaconda3/lib/python3.7/site-packages/sklearn/utils/deprecation.py:87: FutureWarning: Function plot_roc_curve is deprecated; Function `plot_roc_curve` is deprecated in 1.0 and will be removed in 1.2. Use one of the class methods: RocCurveDisplay.from_predictions or RocCurveDisplay.from_estimator.\n",
      "  warnings.warn(msg, category=FutureWarning)\n",
      "/home/betty/anaconda3/lib/python3.7/site-packages/sklearn/utils/deprecation.py:87: FutureWarning: Function plot_roc_curve is deprecated; Function `plot_roc_curve` is deprecated in 1.0 and will be removed in 1.2. Use one of the class methods: RocCurveDisplay.from_predictions or RocCurveDisplay.from_estimator.\n",
      "  warnings.warn(msg, category=FutureWarning)\n"
     ]
    },
    {
     "name": "stdout",
     "output_type": "stream",
     "text": [
      "\n",
      "==============================BernoulliNB Classifier  Model Evaluation ==============================\n",
      "Confusion matrix:\n",
      " [[311  27]\n",
      " [  2 321]]\n",
      "\n",
      "Accuracy:\n",
      " 0.9561270801815431\n",
      "\n",
      "Classification report:\n",
      "               precision    recall  f1-score   support\n",
      "\n",
      "           0       0.99      0.92      0.96       338\n",
      "           1       0.92      0.99      0.96       323\n",
      "\n",
      "    accuracy                           0.96       661\n",
      "   macro avg       0.96      0.96      0.96       661\n",
      "weighted avg       0.96      0.96      0.96       661\n",
      "\n",
      "\n",
      "\n",
      "==============================RandomForest Classifier  Model Evaluation ==============================\n",
      "Confusion matrix:\n",
      " [[295  43]\n",
      " [  2 321]]\n",
      "\n",
      "Accuracy:\n",
      " 0.9319213313161876\n",
      "\n",
      "Classification report:\n",
      "               precision    recall  f1-score   support\n",
      "\n",
      "           0       0.99      0.87      0.93       338\n",
      "           1       0.88      0.99      0.93       323\n",
      "\n",
      "    accuracy                           0.93       661\n",
      "   macro avg       0.94      0.93      0.93       661\n",
      "weighted avg       0.94      0.93      0.93       661\n",
      "\n",
      "\n",
      "\n",
      "==============================LogisticRegression  Model Evaluation ==============================\n",
      "Confusion matrix:\n",
      " [[320  18]\n",
      " [  3 320]]\n",
      "\n",
      "Accuracy:\n",
      " 0.9682299546142209\n",
      "\n",
      "Classification report:\n",
      "               precision    recall  f1-score   support\n",
      "\n",
      "           0       0.99      0.95      0.97       338\n",
      "           1       0.95      0.99      0.97       323\n",
      "\n",
      "    accuracy                           0.97       661\n",
      "   macro avg       0.97      0.97      0.97       661\n",
      "weighted avg       0.97      0.97      0.97       661\n",
      "\n",
      "\n",
      "\n",
      "==============================Decision Tree Classifier  Model Evaluation ==============================\n",
      "Confusion matrix:\n",
      " [[300  38]\n",
      " [ 10 313]]\n",
      "\n",
      "Accuracy:\n",
      " 0.9273827534039334\n",
      "\n",
      "Classification report:\n",
      "               precision    recall  f1-score   support\n",
      "\n",
      "           0       0.97      0.89      0.93       338\n",
      "           1       0.89      0.97      0.93       323\n",
      "\n",
      "    accuracy                           0.93       661\n",
      "   macro avg       0.93      0.93      0.93       661\n",
      "weighted avg       0.93      0.93      0.93       661\n",
      "\n",
      "\n"
     ]
    },
    {
     "name": "stderr",
     "output_type": "stream",
     "text": [
      "/home/betty/anaconda3/lib/python3.7/site-packages/sklearn/utils/deprecation.py:87: FutureWarning: Function plot_roc_curve is deprecated; Function `plot_roc_curve` is deprecated in 1.0 and will be removed in 1.2. Use one of the class methods: RocCurveDisplay.from_predictions or RocCurveDisplay.from_estimator.\n",
      "  warnings.warn(msg, category=FutureWarning)\n",
      "/home/betty/anaconda3/lib/python3.7/site-packages/sklearn/utils/deprecation.py:87: FutureWarning: Function plot_roc_curve is deprecated; Function `plot_roc_curve` is deprecated in 1.0 and will be removed in 1.2. Use one of the class methods: RocCurveDisplay.from_predictions or RocCurveDisplay.from_estimator.\n",
      "  warnings.warn(msg, category=FutureWarning)\n",
      "/home/betty/anaconda3/lib/python3.7/site-packages/sklearn/utils/deprecation.py:87: FutureWarning: Function plot_roc_curve is deprecated; Function `plot_roc_curve` is deprecated in 1.0 and will be removed in 1.2. Use one of the class methods: RocCurveDisplay.from_predictions or RocCurveDisplay.from_estimator.\n",
      "  warnings.warn(msg, category=FutureWarning)\n"
     ]
    },
    {
     "name": "stdout",
     "output_type": "stream",
     "text": [
      "\n",
      "==============================SVM Classifier  Model Evaluation ==============================\n",
      "Confusion matrix:\n",
      " [[300  38]\n",
      " [  5 318]]\n",
      "\n",
      "Accuracy:\n",
      " 0.9349470499243571\n",
      "\n",
      "Classification report:\n",
      "               precision    recall  f1-score   support\n",
      "\n",
      "           0       0.98      0.89      0.93       338\n",
      "           1       0.89      0.98      0.94       323\n",
      "\n",
      "    accuracy                           0.93       661\n",
      "   macro avg       0.94      0.94      0.93       661\n",
      "weighted avg       0.94      0.93      0.93       661\n",
      "\n",
      "\n"
     ]
    },
    {
     "name": "stderr",
     "output_type": "stream",
     "text": [
      "/home/betty/anaconda3/lib/python3.7/site-packages/sklearn/utils/deprecation.py:87: FutureWarning: Function plot_roc_curve is deprecated; Function `plot_roc_curve` is deprecated in 1.0 and will be removed in 1.2. Use one of the class methods: RocCurveDisplay.from_predictions or RocCurveDisplay.from_estimator.\n",
      "  warnings.warn(msg, category=FutureWarning)\n"
     ]
    },
    {
     "name": "stdout",
     "output_type": "stream",
     "text": [
      "\n",
      "==============================KNeighborsClassifier  Model Evaluation ==============================\n",
      "Confusion matrix:\n",
      " [[197 141]\n",
      " [  0 323]]\n",
      "\n",
      "Accuracy:\n",
      " 0.7866868381240545\n",
      "\n",
      "Classification report:\n",
      "               precision    recall  f1-score   support\n",
      "\n",
      "           0       1.00      0.58      0.74       338\n",
      "           1       0.70      1.00      0.82       323\n",
      "\n",
      "    accuracy                           0.79       661\n",
      "   macro avg       0.85      0.79      0.78       661\n",
      "weighted avg       0.85      0.79      0.78       661\n",
      "\n",
      "\n"
     ]
    },
    {
     "name": "stderr",
     "output_type": "stream",
     "text": [
      "/home/betty/anaconda3/lib/python3.7/site-packages/sklearn/utils/deprecation.py:87: FutureWarning: Function plot_roc_curve is deprecated; Function `plot_roc_curve` is deprecated in 1.0 and will be removed in 1.2. Use one of the class methods: RocCurveDisplay.from_predictions or RocCurveDisplay.from_estimator.\n",
      "  warnings.warn(msg, category=FutureWarning)\n"
     ]
    },
    {
     "name": "stdout",
     "output_type": "stream",
     "text": [
      "\n",
      "==============================XGBoost  Model Evaluation ==============================\n",
      "Confusion matrix:\n",
      " [[320  18]\n",
      " [  2 321]]\n",
      "\n",
      "Accuracy:\n",
      " 0.9697428139183056\n",
      "\n",
      "Classification report:\n",
      "               precision    recall  f1-score   support\n",
      "\n",
      "           0       0.99      0.95      0.97       338\n",
      "           1       0.95      0.99      0.97       323\n",
      "\n",
      "    accuracy                           0.97       661\n",
      "   macro avg       0.97      0.97      0.97       661\n",
      "weighted avg       0.97      0.97      0.97       661\n",
      "\n",
      "\n"
     ]
    },
    {
     "name": "stderr",
     "output_type": "stream",
     "text": [
      "/home/betty/anaconda3/lib/python3.7/site-packages/sklearn/utils/deprecation.py:87: FutureWarning: Function plot_roc_curve is deprecated; Function `plot_roc_curve` is deprecated in 1.0 and will be removed in 1.2. Use one of the class methods: RocCurveDisplay.from_predictions or RocCurveDisplay.from_estimator.\n",
      "  warnings.warn(msg, category=FutureWarning)\n"
     ]
    },
    {
     "name": "stdout",
     "output_type": "stream",
     "text": [
      "\n",
      "==============================VotingClassifier  Model Evaluation ==============================\n",
      "Confusion matrix:\n",
      " [[316  22]\n",
      " [  1 322]]\n",
      "\n",
      "Accuracy:\n",
      " 0.9652042360060514\n",
      "\n",
      "Classification report:\n",
      "               precision    recall  f1-score   support\n",
      "\n",
      "           0       1.00      0.93      0.96       338\n",
      "           1       0.94      1.00      0.97       323\n",
      "\n",
      "    accuracy                           0.97       661\n",
      "   macro avg       0.97      0.97      0.97       661\n",
      "weighted avg       0.97      0.97      0.97       661\n",
      "\n",
      "\n"
     ]
    },
    {
     "name": "stderr",
     "output_type": "stream",
     "text": [
      "/home/betty/anaconda3/lib/python3.7/site-packages/sklearn/utils/deprecation.py:87: FutureWarning: Function plot_roc_curve is deprecated; Function `plot_roc_curve` is deprecated in 1.0 and will be removed in 1.2. Use one of the class methods: RocCurveDisplay.from_predictions or RocCurveDisplay.from_estimator.\n",
      "  warnings.warn(msg, category=FutureWarning)\n"
     ]
    },
    {
     "data": {
      "image/png": "[encoded data removed]",
      "text/plain": [
       "<Figure size 432x288 with 1 Axes>"
      ]
     },
     "metadata": {
      "needs_background": "light"
     },
     "output_type": "display_data"
    },
    {
     "data": {
      "image/png": "[encoded data removed]",
      "text/plain": [
       "<Figure size 432x288 with 1 Axes>"
      ]
     },
     "metadata": {
      "needs_background": "light"
     },
     "output_type": "display_data"
    },
    {
     "data": {
      "image/png": "[encoded data removed]",
      "text/plain": [
       "<Figure size 432x288 with 1 Axes>"
      ]
     },
     "metadata": {
      "needs_background": "light"
     },
     "output_type": "display_data"
    },
    {
     "data": {
      "image/png": "[encoded data removed]",
      "text/plain": [
       "<Figure size 432x288 with 1 Axes>"
      ]
     },
     "metadata": {
      "needs_background": "light"
     },
     "output_type": "display_data"
    },
    {
     "data": {
      "image/png": "[encoded data removed]",
      "text/plain": [
       "<Figure size 432x288 with 1 Axes>"
      ]
     },
     "metadata": {
      "needs_background": "light"
     },
     "output_type": "display_data"
    },
    {
     "data": {
      "image/png": "[encoded data removed]",
      "text/plain": [
       "<Figure size 432x288 with 1 Axes>"
      ]
     },
     "metadata": {
      "needs_background": "light"
     },
     "output_type": "display_data"
    },
    {
     "data": {
      "image/png": "[encoded data removed]",
      "text/plain": [
       "<Figure size 432x288 with 1 Axes>"
      ]
     },
     "metadata": {
      "needs_background": "light"
     },
     "output_type": "display_data"
    },
    {
     "data": {
      "image/png": "[encoded data removed]",
      "text/plain": [
       "<Figure size 432x288 with 1 Axes>"
      ]
     },
     "metadata": {
      "needs_background": "light"
     },
     "output_type": "display_data"
    },
    {
     "data": {
      "image/png": "[encoded data removed]",
      "text/plain": [
       "<Figure size 432x288 with 1 Axes>"
      ]
     },
     "metadata": {
      "needs_background": "light"
     },
     "output_type": "display_data"
    },
    {
     "data": {
      "image/png": "[encoded data removed]",
      "text/plain": [
       "<Figure size 432x288 with 1 Axes>"
      ]
     },
     "metadata": {
      "needs_background": "light"
     },
     "output_type": "display_data"
    }
   ],
   "source": [
    "print(\"Evaluation on the training set\")\n",
    "eval_model(model,X_val,y_val)"
   ]
  },
  {
   "cell_type": "code",
   "execution_count": 19,
   "metadata": {},
   "outputs": [
    {
     "name": "stdout",
     "output_type": "stream",
     "text": [
      "Evaluation on the Test set\n",
      "\n",
      "==============================GaussianNB Classifier  Model Evaluation ==============================\n",
      "Confusion matrix:\n",
      " [[356  15]\n",
      " [  3 144]]\n",
      "\n",
      "Accuracy:\n",
      " 0.9652509652509652\n",
      "\n",
      "Classification report:\n",
      "               precision    recall  f1-score   support\n",
      "\n",
      "           0       0.99      0.96      0.98       371\n",
      "           1       0.91      0.98      0.94       147\n",
      "\n",
      "    accuracy                           0.97       518\n",
      "   macro avg       0.95      0.97      0.96       518\n",
      "weighted avg       0.97      0.97      0.97       518\n",
      "\n",
      "\n",
      "\n",
      "==============================MultinomialNB Classifier  Model Evaluation ==============================\n",
      "Confusion matrix:\n",
      " [[358  13]\n",
      " [  9 138]]\n",
      "\n",
      "Accuracy:\n",
      " 0.9575289575289575\n",
      "\n",
      "Classification report:\n",
      "               precision    recall  f1-score   support\n",
      "\n",
      "           0       0.98      0.96      0.97       371\n",
      "           1       0.91      0.94      0.93       147\n",
      "\n",
      "    accuracy                           0.96       518\n",
      "   macro avg       0.94      0.95      0.95       518\n",
      "weighted avg       0.96      0.96      0.96       518\n",
      "\n",
      "\n"
     ]
    },
    {
     "name": "stderr",
     "output_type": "stream",
     "text": [
      "/home/betty/anaconda3/lib/python3.7/site-packages/sklearn/utils/deprecation.py:87: FutureWarning: Function plot_roc_curve is deprecated; Function `plot_roc_curve` is deprecated in 1.0 and will be removed in 1.2. Use one of the class methods: RocCurveDisplay.from_predictions or RocCurveDisplay.from_estimator.\n",
      "  warnings.warn(msg, category=FutureWarning)\n",
      "/home/betty/anaconda3/lib/python3.7/site-packages/sklearn/utils/deprecation.py:87: FutureWarning: Function plot_roc_curve is deprecated; Function `plot_roc_curve` is deprecated in 1.0 and will be removed in 1.2. Use one of the class methods: RocCurveDisplay.from_predictions or RocCurveDisplay.from_estimator.\n",
      "  warnings.warn(msg, category=FutureWarning)\n",
      "/home/betty/anaconda3/lib/python3.7/site-packages/sklearn/utils/deprecation.py:87: FutureWarning: Function plot_roc_curve is deprecated; Function `plot_roc_curve` is deprecated in 1.0 and will be removed in 1.2. Use one of the class methods: RocCurveDisplay.from_predictions or RocCurveDisplay.from_estimator.\n",
      "  warnings.warn(msg, category=FutureWarning)\n"
     ]
    },
    {
     "name": "stdout",
     "output_type": "stream",
     "text": [
      "\n",
      "==============================BernoulliNB Classifier  Model Evaluation ==============================\n",
      "Confusion matrix:\n",
      " [[344  27]\n",
      " [  2 145]]\n",
      "\n",
      "Accuracy:\n",
      " 0.944015444015444\n",
      "\n",
      "Classification report:\n",
      "               precision    recall  f1-score   support\n",
      "\n",
      "           0       0.99      0.93      0.96       371\n",
      "           1       0.84      0.99      0.91       147\n",
      "\n",
      "    accuracy                           0.94       518\n",
      "   macro avg       0.92      0.96      0.93       518\n",
      "weighted avg       0.95      0.94      0.95       518\n",
      "\n",
      "\n",
      "\n",
      "==============================RandomForest Classifier  Model Evaluation ==============================\n",
      "Confusion matrix:\n",
      " [[328  43]\n",
      " [  1 146]]\n",
      "\n",
      "Accuracy:\n",
      " 0.915057915057915\n",
      "\n",
      "Classification report:\n",
      "               precision    recall  f1-score   support\n",
      "\n",
      "           0       1.00      0.88      0.94       371\n",
      "           1       0.77      0.99      0.87       147\n",
      "\n",
      "    accuracy                           0.92       518\n",
      "   macro avg       0.88      0.94      0.90       518\n",
      "weighted avg       0.93      0.92      0.92       518\n",
      "\n",
      "\n"
     ]
    },
    {
     "name": "stderr",
     "output_type": "stream",
     "text": [
      "/home/betty/anaconda3/lib/python3.7/site-packages/sklearn/utils/deprecation.py:87: FutureWarning: Function plot_roc_curve is deprecated; Function `plot_roc_curve` is deprecated in 1.0 and will be removed in 1.2. Use one of the class methods: RocCurveDisplay.from_predictions or RocCurveDisplay.from_estimator.\n",
      "  warnings.warn(msg, category=FutureWarning)\n"
     ]
    },
    {
     "name": "stdout",
     "output_type": "stream",
     "text": [
      "\n",
      "==============================LogisticRegression  Model Evaluation ==============================\n",
      "Confusion matrix:\n",
      " [[358  13]\n",
      " [  4 143]]\n",
      "\n",
      "Accuracy:\n",
      " 0.9671814671814671\n",
      "\n",
      "Classification report:\n",
      "               precision    recall  f1-score   support\n",
      "\n",
      "           0       0.99      0.96      0.98       371\n",
      "           1       0.92      0.97      0.94       147\n",
      "\n",
      "    accuracy                           0.97       518\n",
      "   macro avg       0.95      0.97      0.96       518\n",
      "weighted avg       0.97      0.97      0.97       518\n",
      "\n",
      "\n",
      "\n",
      "==============================Decision Tree Classifier  Model Evaluation ==============================\n",
      "Confusion matrix:\n",
      " [[342  29]\n",
      " [  7 140]]\n",
      "\n",
      "Accuracy:\n",
      " 0.9305019305019305\n",
      "\n",
      "Classification report:\n",
      "               precision    recall  f1-score   support\n",
      "\n",
      "           0       0.98      0.92      0.95       371\n",
      "           1       0.83      0.95      0.89       147\n",
      "\n",
      "    accuracy                           0.93       518\n",
      "   macro avg       0.90      0.94      0.92       518\n",
      "weighted avg       0.94      0.93      0.93       518\n",
      "\n",
      "\n"
     ]
    },
    {
     "name": "stderr",
     "output_type": "stream",
     "text": [
      "/home/betty/anaconda3/lib/python3.7/site-packages/sklearn/utils/deprecation.py:87: FutureWarning: Function plot_roc_curve is deprecated; Function `plot_roc_curve` is deprecated in 1.0 and will be removed in 1.2. Use one of the class methods: RocCurveDisplay.from_predictions or RocCurveDisplay.from_estimator.\n",
      "  warnings.warn(msg, category=FutureWarning)\n",
      "/home/betty/anaconda3/lib/python3.7/site-packages/sklearn/utils/deprecation.py:87: FutureWarning: Function plot_roc_curve is deprecated; Function `plot_roc_curve` is deprecated in 1.0 and will be removed in 1.2. Use one of the class methods: RocCurveDisplay.from_predictions or RocCurveDisplay.from_estimator.\n",
      "  warnings.warn(msg, category=FutureWarning)\n"
     ]
    },
    {
     "name": "stdout",
     "output_type": "stream",
     "text": [
      "\n",
      "==============================SVM Classifier  Model Evaluation ==============================\n",
      "Confusion matrix:\n",
      " [[332  39]\n",
      " [  3 144]]\n",
      "\n",
      "Accuracy:\n",
      " 0.918918918918919\n",
      "\n",
      "Classification report:\n",
      "               precision    recall  f1-score   support\n",
      "\n",
      "           0       0.99      0.89      0.94       371\n",
      "           1       0.79      0.98      0.87       147\n",
      "\n",
      "    accuracy                           0.92       518\n",
      "   macro avg       0.89      0.94      0.91       518\n",
      "weighted avg       0.93      0.92      0.92       518\n",
      "\n",
      "\n"
     ]
    },
    {
     "name": "stderr",
     "output_type": "stream",
     "text": [
      "/home/betty/anaconda3/lib/python3.7/site-packages/sklearn/utils/deprecation.py:87: FutureWarning: Function plot_roc_curve is deprecated; Function `plot_roc_curve` is deprecated in 1.0 and will be removed in 1.2. Use one of the class methods: RocCurveDisplay.from_predictions or RocCurveDisplay.from_estimator.\n",
      "  warnings.warn(msg, category=FutureWarning)\n"
     ]
    },
    {
     "name": "stdout",
     "output_type": "stream",
     "text": [
      "\n",
      "==============================KNeighborsClassifier  Model Evaluation ==============================\n",
      "Confusion matrix:\n",
      " [[239 132]\n",
      " [  0 147]]\n",
      "\n",
      "Accuracy:\n",
      " 0.7451737451737451\n",
      "\n",
      "Classification report:\n",
      "               precision    recall  f1-score   support\n",
      "\n",
      "           0       1.00      0.64      0.78       371\n",
      "           1       0.53      1.00      0.69       147\n",
      "\n",
      "    accuracy                           0.75       518\n",
      "   macro avg       0.76      0.82      0.74       518\n",
      "weighted avg       0.87      0.75      0.76       518\n",
      "\n",
      "\n"
     ]
    },
    {
     "name": "stderr",
     "output_type": "stream",
     "text": [
      "/home/betty/anaconda3/lib/python3.7/site-packages/sklearn/utils/deprecation.py:87: FutureWarning: Function plot_roc_curve is deprecated; Function `plot_roc_curve` is deprecated in 1.0 and will be removed in 1.2. Use one of the class methods: RocCurveDisplay.from_predictions or RocCurveDisplay.from_estimator.\n",
      "  warnings.warn(msg, category=FutureWarning)\n"
     ]
    },
    {
     "name": "stdout",
     "output_type": "stream",
     "text": [
      "\n",
      "==============================XGBoost  Model Evaluation ==============================\n",
      "Confusion matrix:\n",
      " [[357  14]\n",
      " [  3 144]]\n",
      "\n",
      "Accuracy:\n",
      " 0.9671814671814671\n",
      "\n",
      "Classification report:\n",
      "               precision    recall  f1-score   support\n",
      "\n",
      "           0       0.99      0.96      0.98       371\n",
      "           1       0.91      0.98      0.94       147\n",
      "\n",
      "    accuracy                           0.97       518\n",
      "   macro avg       0.95      0.97      0.96       518\n",
      "weighted avg       0.97      0.97      0.97       518\n",
      "\n",
      "\n"
     ]
    },
    {
     "name": "stderr",
     "output_type": "stream",
     "text": [
      "/home/betty/anaconda3/lib/python3.7/site-packages/sklearn/utils/deprecation.py:87: FutureWarning: Function plot_roc_curve is deprecated; Function `plot_roc_curve` is deprecated in 1.0 and will be removed in 1.2. Use one of the class methods: RocCurveDisplay.from_predictions or RocCurveDisplay.from_estimator.\n",
      "  warnings.warn(msg, category=FutureWarning)\n"
     ]
    },
    {
     "name": "stdout",
     "output_type": "stream",
     "text": [
      "\n",
      "==============================VotingClassifier  Model Evaluation ==============================\n",
      "Confusion matrix:\n",
      " [[345  26]\n",
      " [  1 146]]\n",
      "\n",
      "Accuracy:\n",
      " 0.9478764478764479\n",
      "\n",
      "Classification report:\n",
      "               precision    recall  f1-score   support\n",
      "\n",
      "           0       1.00      0.93      0.96       371\n",
      "           1       0.85      0.99      0.92       147\n",
      "\n",
      "    accuracy                           0.95       518\n",
      "   macro avg       0.92      0.96      0.94       518\n",
      "weighted avg       0.96      0.95      0.95       518\n",
      "\n",
      "\n"
     ]
    },
    {
     "name": "stderr",
     "output_type": "stream",
     "text": [
      "/home/betty/anaconda3/lib/python3.7/site-packages/sklearn/utils/deprecation.py:87: FutureWarning: Function plot_roc_curve is deprecated; Function `plot_roc_curve` is deprecated in 1.0 and will be removed in 1.2. Use one of the class methods: RocCurveDisplay.from_predictions or RocCurveDisplay.from_estimator.\n",
      "  warnings.warn(msg, category=FutureWarning)\n"
     ]
    },
    {
     "data": {
      "image/png": "[encoded data removed]",
      "text/plain": [
       "<Figure size 432x288 with 1 Axes>"
      ]
     },
     "metadata": {
      "needs_background": "light"
     },
     "output_type": "display_data"
    },
    {
     "data": {
      "image/png": "[encoded data removed]",
      "text/plain": [
       "<Figure size 432x288 with 1 Axes>"
      ]
     },
     "metadata": {
      "needs_background": "light"
     },
     "output_type": "display_data"
    },
    {
     "data": {
      "image/png": "[encoded data removed]",
      "text/plain": [
       "<Figure size 432x288 with 1 Axes>"
      ]
     },
     "metadata": {
      "needs_background": "light"
     },
     "output_type": "display_data"
    },
    {
     "data": {
      "image/png": "[encoded data removed]",
      "text/plain": [
       "<Figure size 432x288 with 1 Axes>"
      ]
     },
     "metadata": {
      "needs_background": "light"
     },
     "output_type": "display_data"
    },
    {
     "data": {
      "image/png": "[encoded data removed]",
      "text/plain": [
       "<Figure size 432x288 with 1 Axes>"
      ]
     },
     "metadata": {
      "needs_background": "light"
     },
     "output_type": "display_data"
    },
    {
     "data": {
      "image/png": "[encoded data removed]",
      "text/plain": [
       "<Figure size 432x288 with 1 Axes>"
      ]
     },
     "metadata": {
      "needs_background": "light"
     },
     "output_type": "display_data"
    },
    {
     "data": {
      "image/png": "[encoded data removed]",
      "text/plain": [
       "<Figure size 432x288 with 1 Axes>"
      ]
     },
     "metadata": {
      "needs_background": "light"
     },
     "output_type": "display_data"
    },
    {
     "data": {
      "image/png": "[encoded data removed]",
      "text/plain": [
       "<Figure size 432x288 with 1 Axes>"
      ]
     },
     "metadata": {
      "needs_background": "light"
     },
     "output_type": "display_data"
    },
    {
     "data": {
      "image/png": "[encoded data removed]",
      "text/plain": [
       "<Figure size 432x288 with 1 Axes>"
      ]
     },
     "metadata": {
      "needs_background": "light"
     },
     "output_type": "display_data"
    },
    {
     "data": {
      "image/png": "[encoded data removed]",
      "text/plain": [
       "<Figure size 432x288 with 1 Axes>"
      ]
     },
     "metadata": {
      "needs_background": "light"
     },
     "output_type": "display_data"
    }
   ],
   "source": [
    "print(\"Evaluation on the Test set\")\n",
    "eval_model(model,X_test,y_test)"
   ]
  },
  {
   "cell_type": "markdown",
   "metadata": {},
   "source": [
    "As we can seen from the evaluation the Test Accuracy decrease."
   ]
  },
  {
   "cell_type": "code",
   "execution_count": null,
   "metadata": {},
   "outputs": [],
   "source": []
  },
  {
   "cell_type": "code",
   "execution_count": null,
   "metadata": {},
   "outputs": [],
   "source": []
  },
  {
   "cell_type": "code",
   "execution_count": null,
   "metadata": {},
   "outputs": [],
   "source": []
  },
  {
   "cell_type": "code",
   "execution_count": null,
   "metadata": {},
   "outputs": [],
   "source": []
  },
  {
   "cell_type": "code",
   "execution_count": null,
   "metadata": {},
   "outputs": [],
   "source": []
  },
  {
   "cell_type": "code",
   "execution_count": null,
   "metadata": {},
   "outputs": [],
   "source": []
  },
  {
   "cell_type": "code",
   "execution_count": null,
   "metadata": {},
   "outputs": [],
   "source": []
  },
  {
   "cell_type": "code",
   "execution_count": null,
   "metadata": {},
   "outputs": [],
   "source": []
  }
 ],
 "metadata": {
  "kernelspec": {
   "display_name": "Python 3",
   "language": "python",
   "name": "python3"
  },
  "language_info": {
   "codemirror_mode": {
    "name": "ipython",
    "version": 3
   },
   "file_extension": ".py",
   "mimetype": "text/x-python",
   "name": "python",
   "nbconvert_exporter": "python",
   "pygments_lexer": "ipython3",
   "version": "3.7.6"
  }
 },
 "nbformat": 4,
 "nbformat_minor": 4
}
